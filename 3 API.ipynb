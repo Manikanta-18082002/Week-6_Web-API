{
 "cells": [
  {
   "cell_type": "markdown",
   "id": "6dc2fc93",
   "metadata": {},
   "source": [
    "Q1. What is an API? Give an example, where an API is used in real life."
   ]
  },
  {
   "cell_type": "markdown",
   "id": "eb9c0836",
   "metadata": {},
   "source": [
    "### API:\n",
    "Application Programming Interface, is a set of rules and protocols that allows different software applications to communicate with each other. It defines the methods and data formats that applications can use to request and exchange information. APIs are used to enable the integration of different software systems and to allow them to work together.\n",
    "\n",
    "##### Example:\n",
    "Weather Application\n",
    "\n",
    "### API in a Weather App Scenario:\n",
    "\n",
    "* A weather app on your phone gets its weather data from a weather service provider.\n",
    "* The weather service provider has an API that allows the app to ask for weather data.\n",
    "* The app sends a request to the API with details like your location and the type of weather data you want.\n",
    "* The API collects and formats the data from various sources and sends it back to the app.\n",
    "* The app displays the weather information to you in an easy-to-read format.\n",
    "\n"
   ]
  },
  {
   "cell_type": "code",
   "execution_count": null,
   "id": "161cc76d",
   "metadata": {},
   "outputs": [],
   "source": []
  },
  {
   "cell_type": "markdown",
   "id": "4fd8d47c",
   "metadata": {},
   "source": [
    "Q2. Give advantages and disadvantages of using API. "
   ]
  },
  {
   "cell_type": "markdown",
   "id": "e80edf44",
   "metadata": {},
   "source": [
    "### Advantages of Using APIs:\n",
    "\n",
    "* Efficiency: APIs allow developers to reuse existing services and functionalities, saving time and effort in building new features.\n",
    "\n",
    "* Interoperability: APIs enable different software systems to communicate and work together, regardless of their underlying technologies.\n",
    "\n",
    "* Innovation: APIs encourage innovation by allowing developers to build on top of existing platforms and services.\n",
    "\n",
    "* Scalability: APIs can handle a large number of requests, making it easier to scale and expand applications as needed.\n",
    "\n",
    "* Security: APIs can provide controlled access to data and functionality, enhancing security by limiting exposure.\n",
    "\n",
    "\n",
    "### Disadvantages of Using APIs:\n",
    "\n",
    "* Complexity: Integrating multiple APIs can lead to complexity in managing and maintaining an application.\n",
    "\n",
    "* Cost: Some APIs may come with usage fees, which can add to the overall cost of running an application.\n",
    "\n",
    "* Dependency: Relying on third-party APIs can create dependencies, making your application vulnerable to changes or outages in those APIs.\n",
    "\n",
    "* Privacy Concerns: Sharing data through APIs can raise privacy and data security concerns if not handled carefully.\n",
    "\n",
    "* Versioning Issues: Changes to APIs can break compatibility with existing applications, requiring updates and potentially causing disruptions."
   ]
  },
  {
   "cell_type": "code",
   "execution_count": null,
   "id": "6ce35fce",
   "metadata": {},
   "outputs": [],
   "source": []
  },
  {
   "cell_type": "markdown",
   "id": "55a69c03",
   "metadata": {},
   "source": [
    "Q3. What is a Web API? Differentiate between API and Web API?"
   ]
  },
  {
   "cell_type": "markdown",
   "id": "eba97f2b",
   "metadata": {},
   "source": [
    "### Web API:\n",
    "\n",
    "It is a type of API specifically designed to allow communication and data exchange over the internet. Web APIs enable applications to request and exchange data with remote servers or services using standard web protocols like HTTP.\n",
    "\n",
    "#### Difference between API and Web API:\n",
    "###### Web Services  \n",
    "* Web services are a type of API, which must be accessed through a network connection.\t\n",
    "* Web service is used for REST, SOAP and XML-RPC for communication.\t\n",
    "* All Web services are APIs.\t\n",
    "* It doesn’t have lightweight design, needs a SOAP convention to send or receive data over the system.\t\n",
    "* It provides supports only for the HTTP protocol.\t\n",
    "* It is not open source, however, can be devoured by any customer that comprehends xml.\t\n",
    "* Web service supports only XML.\t\n",
    "* Web Services can be hosted on IIS.\t\n",
    "\n",
    "###### Web API\n",
    "* APIs are application interfaces, implying that one application can communicate with another application in a standardized manner.\n",
    "* API is used for any style of communication.\n",
    "* APIs are not web services.\n",
    "* It has a light-weight architecture furthermore, useful for gadgets which have constrained transmission capacity like smart phones.\n",
    "* It provides support for the HTTP/s protocol: URL Request/Response Headers, and so on.\n",
    "* It is an open source and also ships with .NET framework.\n",
    "* API supports XML and JSON.\n",
    "* Web API can be hosted only on IIS and self."
   ]
  },
  {
   "cell_type": "code",
   "execution_count": null,
   "id": "dd64ef93",
   "metadata": {},
   "outputs": [],
   "source": []
  },
  {
   "cell_type": "markdown",
   "id": "34142785",
   "metadata": {},
   "source": [
    "Q4. Explain REST and SOAP Architecture. Mention shortcomings of SOAP."
   ]
  },
  {
   "cell_type": "markdown",
   "id": "fe9a4d92",
   "metadata": {},
   "source": [
    "### REST (Representational State Transfer):\n",
    "\n",
    "REST is an architectural style for designing networked applications. It's based on a set of constraints and principles that promote scalability, simplicity, and a stateless client-server interaction. RESTful systems use standard HTTP methods (GET, POST, PUT, DELETE) for communication and rely on URLs to identify resources.\n",
    "\n",
    "### SOAP (Simple Object Access Protocol):\n",
    "\n",
    "SOAP is a protocol for exchanging structured information in the implementation of web services. Unlike REST, SOAP is a more rigid and complex protocol that uses XML for message formatting. SOAP messages typically rely on request-response patterns and can use various transport protocols, including HTTP, SMTP, and more.\n",
    "\n",
    "### Shortcomings of SOAP:\n",
    "\n",
    "* Complexity: SOAP messages are often large and complex due to XML formatting, making them less efficient for simple data exchanges.\n",
    "\n",
    "* Performance: The verbosity of SOAP can lead to slower performance compared to more lightweight protocols like REST, especially in high-traffic situations.\n",
    "\n",
    "* Limited Browser Support: SOAP is not natively supported in web browsers, which can hinder its use in web applications.\n",
    "\n",
    "* Less Human-Readable: SOAP messages are not as human-readable as JSON used in REST, which makes debugging and development more challenging.\n",
    "\n",
    "* Tight Coupling: SOAP services can lead to tighter coupling between client and server, making it harder to evolve and maintain systems."
   ]
  },
  {
   "cell_type": "code",
   "execution_count": null,
   "id": "2d121779",
   "metadata": {},
   "outputs": [],
   "source": []
  },
  {
   "cell_type": "markdown",
   "id": "e4ed7934",
   "metadata": {},
   "source": [
    " Q5) Differentiate between REST and SOAP"
   ]
  },
  {
   "cell_type": "markdown",
   "id": "06316f3a",
   "metadata": {},
   "source": [
    "#  Difference between REST and SOAP\n",
    "\n",
    "### SOAP API\n",
    "\n",
    "* Relies on SOAP (Simple Object Access Protocol)\t\n",
    "* Transports data in standard XML format.\t\n",
    "* Because it is XML based and relies on SOAP, it works with WSDL\t\n",
    "* Works over HTTP, HTTPS, SMTP, XMPP\t\n",
    "* Highly structured/typed\t\n",
    "* Designed with large enterprise applications in mind\t\n",
    "\n",
    "### REST API\n",
    "* Relies on REST (Representational State Transfer) architecture using HTTP.\n",
    "* Generally transports data in JSON. It is based on URI. Because REST follows stateless model, REST does not enforces message format as XML or JSON etc.\n",
    "* It works with GET, POST, PUT, DELETE\n",
    "* Works over HTTP and HTTPS\n",
    "* Less structured -> less bulky data\n",
    "* Designed with mobile devices in mind"
   ]
  },
  {
   "cell_type": "code",
   "execution_count": null,
   "id": "3b648879",
   "metadata": {},
   "outputs": [],
   "source": []
  }
 ],
 "metadata": {
  "kernelspec": {
   "display_name": "Python 3 (ipykernel)",
   "language": "python",
   "name": "python3"
  },
  "language_info": {
   "codemirror_mode": {
    "name": "ipython",
    "version": 3
   },
   "file_extension": ".py",
   "mimetype": "text/x-python",
   "name": "python",
   "nbconvert_exporter": "python",
   "pygments_lexer": "ipython3",
   "version": "3.11.4"
  }
 },
 "nbformat": 4,
 "nbformat_minor": 5
}
